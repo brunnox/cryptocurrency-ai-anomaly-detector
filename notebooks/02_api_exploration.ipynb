{
 "cells": [
  {
   "cell_type": "code",
   "execution_count": 8,
   "metadata": {},
   "outputs": [],
   "source": [
    "import requests\n",
    "from dotenv import load_dotenv\n",
    "import os"
   ]
  },
  {
   "cell_type": "code",
   "execution_count": 9,
   "metadata": {},
   "outputs": [
    {
     "data": {
      "text/plain": [
       "True"
      ]
     },
     "execution_count": 9,
     "metadata": {},
     "output_type": "execute_result"
    }
   ],
   "source": [
    "load_dotenv()"
   ]
  },
  {
   "cell_type": "code",
   "execution_count": 10,
   "metadata": {},
   "outputs": [],
   "source": [
    "coingecko_token = os.getenv(\"COINGECKO_KEY\")"
   ]
  },
  {
   "cell_type": "code",
   "execution_count": 11,
   "metadata": {},
   "outputs": [
    {
     "name": "stdout",
     "output_type": "stream",
     "text": [
      "{\"gecko_says\":\"(V3) To the Moon!\"}\n"
     ]
    }
   ],
   "source": [
    "url = \"https://api.coingecko.com/api/v3/ping\"\n",
    "\n",
    "headers = {\n",
    "    \"accept\": \"application/json\",\n",
    "    \"x-cg-demo-api-key\": coingecko_token\n",
    "}\n",
    "\n",
    "response = requests.get(url, headers=headers)\n",
    "\n",
    "print(response.text)"
   ]
  },
  {
   "cell_type": "code",
   "execution_count": 4,
   "metadata": {},
   "outputs": [
    {
     "name": "stdout",
     "output_type": "stream",
     "text": [
      "[{\"id\":\"bitcoin\",\"symbol\":\"btc\",\"name\":\"Bitcoin\",\"image\":\"https://coin-images.coingecko.com/coins/images/1/large/bitcoin.png?1696501400\",\"current_price\":119587,\"market_cap\":2377381701462,\"market_cap_rank\":1,\"fully_diluted_valuation\":2377381701462,\"total_volume\":54145709505,\"high_24h\":119813,\"low_24h\":116836,\"price_change_24h\":2748.02,\"price_change_percentage_24h\":2.35197,\"market_cap_change_24h\":54232891387,\"market_cap_change_percentage_24h\":2.33446,\"circulating_supply\":19896021.0,\"total_supply\":19896021.0,\"max_supply\":21000000.0,\"ath\":122838,\"ath_change_percentage\":-2.87941,\"ath_date\":\"2025-07-14T07:56:01.937Z\",\"atl\":67.81,\"atl_change_percentage\":175836.79189,\"atl_date\":\"2013-07-06T00:00:00.000Z\",\"roi\":null,\"last_updated\":\"2025-07-22T20:12:03.706Z\"}]\n"
     ]
    }
   ],
   "source": [
    "url = \"https://api.coingecko.com/api/v3/coins/markets\"\n",
    "\n",
    "headers = {\n",
    "    \"accept\": \"application/json\",\n",
    "    \"x-cg-demo-api-key\": coingecko_token\n",
    "}\n",
    "\n",
    "params = {\n",
    "    \"vs_currency\": \"usd\",\n",
    "    \"ids\": \"bitcoin\"\n",
    "}\n",
    "\n",
    "response = requests.get(url, headers=headers, params=params)\n",
    "\n",
    "print(response.text)"
   ]
  },
  {
   "cell_type": "code",
   "execution_count": 5,
   "metadata": {},
   "outputs": [
    {
     "data": {
      "text/plain": [
       "[{'id': 'bitcoin',\n",
       "  'symbol': 'btc',\n",
       "  'name': 'Bitcoin',\n",
       "  'image': 'https://coin-images.coingecko.com/coins/images/1/large/bitcoin.png?1696501400',\n",
       "  'current_price': 119587,\n",
       "  'market_cap': 2377381701462,\n",
       "  'market_cap_rank': 1,\n",
       "  'fully_diluted_valuation': 2377381701462,\n",
       "  'total_volume': 54145709505,\n",
       "  'high_24h': 119813,\n",
       "  'low_24h': 116836,\n",
       "  'price_change_24h': 2748.02,\n",
       "  'price_change_percentage_24h': 2.35197,\n",
       "  'market_cap_change_24h': 54232891387,\n",
       "  'market_cap_change_percentage_24h': 2.33446,\n",
       "  'circulating_supply': 19896021.0,\n",
       "  'total_supply': 19896021.0,\n",
       "  'max_supply': 21000000.0,\n",
       "  'ath': 122838,\n",
       "  'ath_change_percentage': -2.87941,\n",
       "  'ath_date': '2025-07-14T07:56:01.937Z',\n",
       "  'atl': 67.81,\n",
       "  'atl_change_percentage': 175836.79189,\n",
       "  'atl_date': '2013-07-06T00:00:00.000Z',\n",
       "  'roi': None,\n",
       "  'last_updated': '2025-07-22T20:12:03.706Z'}]"
      ]
     },
     "execution_count": 5,
     "metadata": {},
     "output_type": "execute_result"
    }
   ],
   "source": [
    "response.json()"
   ]
  },
  {
   "cell_type": "code",
   "execution_count": 6,
   "metadata": {},
   "outputs": [],
   "source": [
    "url = \"https://api.coingecko.com/api/v3/coins/markets\"\n",
    "\n",
    "headers = {\n",
    "    \"accept\": \"application/json\",\n",
    "    \"x-cg-demo-api-key\": coingecko_token\n",
    "}\n",
    "coin_ids = ['bitcoin', 'ethereum', 'solana', 'cardano', 'polygon']\n",
    "params = {\n",
    "    \"vs_currency\": \"usd\",\n",
    "    \"ids\": \",\".join(coin_ids)\n",
    "}\n",
    "\n",
    "response2 = requests.get(url, headers=headers, params=params)"
   ]
  },
  {
   "cell_type": "code",
   "execution_count": 7,
   "metadata": {},
   "outputs": [
    {
     "data": {
      "text/plain": [
       "[{'id': 'bitcoin',\n",
       "  'symbol': 'btc',\n",
       "  'name': 'Bitcoin',\n",
       "  'image': 'https://coin-images.coingecko.com/coins/images/1/large/bitcoin.png?1696501400',\n",
       "  'current_price': 119641,\n",
       "  'market_cap': 2380336197346,\n",
       "  'market_cap_rank': 1,\n",
       "  'fully_diluted_valuation': 2380336197346,\n",
       "  'total_volume': 53910107598,\n",
       "  'high_24h': 119813,\n",
       "  'low_24h': 116836,\n",
       "  'price_change_24h': 2729.89,\n",
       "  'price_change_percentage_24h': 2.33502,\n",
       "  'market_cap_change_24h': 53517110020,\n",
       "  'market_cap_change_percentage_24h': 2.30001,\n",
       "  'circulating_supply': 19896021.0,\n",
       "  'total_supply': 19896021.0,\n",
       "  'max_supply': 21000000.0,\n",
       "  'ath': 122838,\n",
       "  'ath_change_percentage': -2.87941,\n",
       "  'ath_date': '2025-07-14T07:56:01.937Z',\n",
       "  'atl': 67.81,\n",
       "  'atl_change_percentage': 175836.79189,\n",
       "  'atl_date': '2013-07-06T00:00:00.000Z',\n",
       "  'roi': None,\n",
       "  'last_updated': '2025-07-22T20:19:03.203Z'},\n",
       " {'id': 'ethereum',\n",
       "  'symbol': 'eth',\n",
       "  'name': 'Ethereum',\n",
       "  'image': 'https://coin-images.coingecko.com/coins/images/279/large/ethereum.png?1696501628',\n",
       "  'current_price': 3691.26,\n",
       "  'market_cap': 445610156545,\n",
       "  'market_cap_rank': 2,\n",
       "  'fully_diluted_valuation': 445610156545,\n",
       "  'total_volume': 41856014659,\n",
       "  'high_24h': 3792.38,\n",
       "  'low_24h': 3630.43,\n",
       "  'price_change_24h': -49.649666849018104,\n",
       "  'price_change_percentage_24h': -1.32721,\n",
       "  'market_cap_change_24h': -6019017357.654297,\n",
       "  'market_cap_change_percentage_24h': -1.33273,\n",
       "  'circulating_supply': 120711486.2801501,\n",
       "  'total_supply': 120711486.2801501,\n",
       "  'max_supply': None,\n",
       "  'ath': 4878.26,\n",
       "  'ath_change_percentage': -24.83196,\n",
       "  'ath_date': '2021-11-10T14:24:19.604Z',\n",
       "  'atl': 0.432979,\n",
       "  'atl_change_percentage': 846798.83363,\n",
       "  'atl_date': '2015-10-20T00:00:00.000Z',\n",
       "  'roi': {'times': 40.240590626761424,\n",
       "   'currency': 'btc',\n",
       "   'percentage': 4024.0590626761423},\n",
       "  'last_updated': '2025-07-22T20:19:03.929Z'},\n",
       " {'id': 'solana',\n",
       "  'symbol': 'sol',\n",
       "  'name': 'Solana',\n",
       "  'image': 'https://coin-images.coingecko.com/coins/images/4128/large/solana.png?1718769756',\n",
       "  'current_price': 199.69,\n",
       "  'market_cap': 107476951962,\n",
       "  'market_cap_rank': 6,\n",
       "  'fully_diluted_valuation': 121001488691,\n",
       "  'total_volume': 30902738988,\n",
       "  'high_24h': 203.82,\n",
       "  'low_24h': 194.74,\n",
       "  'price_change_24h': 3.73,\n",
       "  'price_change_percentage_24h': 1.90083,\n",
       "  'market_cap_change_24h': 2014963425,\n",
       "  'market_cap_change_percentage_24h': 1.91061,\n",
       "  'circulating_supply': 538045456.9030093,\n",
       "  'total_supply': 605751280.439345,\n",
       "  'max_supply': None,\n",
       "  'ath': 293.31,\n",
       "  'ath_change_percentage': -31.90447,\n",
       "  'ath_date': '2025-01-19T11:15:27.957Z',\n",
       "  'atl': 0.500801,\n",
       "  'atl_change_percentage': 39782.55752,\n",
       "  'atl_date': '2020-05-11T19:35:23.449Z',\n",
       "  'roi': None,\n",
       "  'last_updated': '2025-07-22T20:19:07.096Z'},\n",
       " {'id': 'cardano',\n",
       "  'symbol': 'ada',\n",
       "  'name': 'Cardano',\n",
       "  'image': 'https://coin-images.coingecko.com/coins/images/975/large/cardano.png?1696502090',\n",
       "  'current_price': 0.883296,\n",
       "  'market_cap': 31938840491,\n",
       "  'market_cap_rank': 10,\n",
       "  'fully_diluted_valuation': 39751511569,\n",
       "  'total_volume': 2072728147,\n",
       "  'high_24h': 0.905891,\n",
       "  'low_24h': 0.856291,\n",
       "  'price_change_24h': 0.00132439,\n",
       "  'price_change_percentage_24h': 0.15016,\n",
       "  'market_cap_change_24h': 68209124,\n",
       "  'market_cap_change_percentage_24h': 0.21402,\n",
       "  'circulating_supply': 36155803021.66488,\n",
       "  'total_supply': 45000000000.0,\n",
       "  'max_supply': 45000000000.0,\n",
       "  'ath': 3.09,\n",
       "  'ath_change_percentage': -71.55269,\n",
       "  'ath_date': '2021-09-02T06:00:10.474Z',\n",
       "  'atl': 0.01925275,\n",
       "  'atl_change_percentage': 4461.13255,\n",
       "  'atl_date': '2020-03-13T02:22:55.044Z',\n",
       "  'roi': None,\n",
       "  'last_updated': '2025-07-22T20:19:02.999Z'}]"
      ]
     },
     "execution_count": 7,
     "metadata": {},
     "output_type": "execute_result"
    }
   ],
   "source": [
    "response2.json()"
   ]
  },
  {
   "cell_type": "code",
   "execution_count": null,
   "metadata": {},
   "outputs": [],
   "source": []
  }
 ],
 "metadata": {
  "kernelspec": {
   "display_name": "Python 3.9.13 ('venv': venv)",
   "language": "python",
   "name": "python3"
  },
  "language_info": {
   "codemirror_mode": {
    "name": "ipython",
    "version": 3
   },
   "file_extension": ".py",
   "mimetype": "text/x-python",
   "name": "python",
   "nbconvert_exporter": "python",
   "pygments_lexer": "ipython3",
   "version": "3.9.13"
  },
  "orig_nbformat": 4,
  "vscode": {
   "interpreter": {
    "hash": "857d8ac2ab87f7b878c24f7ce4ad344804cf87acc6af4497eac977b9abd03f96"
   }
  }
 },
 "nbformat": 4,
 "nbformat_minor": 2
}
