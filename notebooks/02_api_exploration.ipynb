{
 "cells": [
  {
   "cell_type": "code",
   "execution_count": 1,
   "metadata": {},
   "outputs": [],
   "source": [
    "import requests\n",
    "from dotenv import load_dotenv\n",
    "import os\n",
    "import sys"
   ]
  },
  {
   "cell_type": "code",
   "execution_count": 2,
   "metadata": {},
   "outputs": [
    {
     "data": {
      "text/plain": [
       "True"
      ]
     },
     "execution_count": 2,
     "metadata": {},
     "output_type": "execute_result"
    }
   ],
   "source": [
    "load_dotenv()"
   ]
  },
  {
   "cell_type": "code",
   "execution_count": 3,
   "metadata": {},
   "outputs": [],
   "source": [
    "coingecko_token = os.getenv(\"COINGECKO_KEY\")"
   ]
  },
  {
   "cell_type": "code",
   "execution_count": 4,
   "metadata": {},
   "outputs": [],
   "source": [
    "if '..' not in sys.path:\n",
    "    sys.path.insert(0, os.path.abspath('..'))"
   ]
  },
  {
   "cell_type": "code",
   "execution_count": 5,
   "metadata": {},
   "outputs": [],
   "source": [
    "from src.data_lake.data_collector import CryptoDataCollector\n",
    "from src.data_lake.lake_manager import BucketManager"
   ]
  },
  {
   "cell_type": "code",
   "execution_count": 6,
   "metadata": {},
   "outputs": [],
   "source": [
    "collector = CryptoDataCollector(\n",
    "    url=\"https://api.coingecko.com/api/v3/\",\n",
    "    token=coingecko_token\n",
    ")"
   ]
  },
  {
   "cell_type": "code",
   "execution_count": 7,
   "metadata": {},
   "outputs": [],
   "source": [
    "data = collector.collect_crypto_data()"
   ]
  },
  {
   "cell_type": "code",
   "execution_count": 8,
   "metadata": {},
   "outputs": [],
   "source": [
    "endpoint_url = os.getenv(\"URL_AWS\")\n",
    "aws_access_key_id = os.getenv(\"AWS_ACCESS_KEY_ID\")\n",
    "aws_secret_access_key = os.getenv(\"AWS_SECRET_ACCESS_KEY\")"
   ]
  },
  {
   "cell_type": "code",
   "execution_count": 9,
   "metadata": {},
   "outputs": [
    {
     "name": "stdout",
     "output_type": "stream",
     "text": [
      "Connected to MinIO at http://localhost:9000\n"
     ]
    }
   ],
   "source": [
    "bucket_manager = BucketManager(\n",
    "    endpoint_url=endpoint_url,\n",
    "    access_key=aws_access_key_id,\n",
    "    secret_key=aws_secret_access_key\n",
    ")"
   ]
  },
  {
   "cell_type": "code",
   "execution_count": 10,
   "metadata": {},
   "outputs": [
    {
     "name": "stdout",
     "output_type": "stream",
     "text": [
      "✅ Stored crypto data at: raw/crypto_prices/year=2025/month=07/day=23/hour=20/crypto_prices_20250723_202735.json\n"
     ]
    }
   ],
   "source": [
    "success = bucket_manager.store_crypto_data('crypto-data-lake', data)"
   ]
  },
  {
   "cell_type": "code",
   "execution_count": 11,
   "metadata": {},
   "outputs": [
    {
     "name": "stdout",
     "output_type": "stream",
     "text": [
      "Found 2 files with prefix 'raw/crypto_prices'\n",
      "Files in bucket: ['raw/crypto_prices/year=2025/month=07/day=23/hour=20/crypto_prices_20250723_200720.json', 'raw/crypto_prices/year=2025/month=07/day=23/hour=20/crypto_prices_20250723_202735.json']\n"
     ]
    }
   ],
   "source": [
    "files = bucket_manager.list_files('crypto-data-lake', 'raw/crypto_prices')\n",
    "print(f\"Files in bucket: {files}\")"
   ]
  },
  {
   "cell_type": "code",
   "execution_count": 8,
   "metadata": {},
   "outputs": [
    {
     "data": {
      "text/plain": [
       "{'collection_metadata': {'timestamp': '2025-07-23T15:51:17.182133',\n",
       "  'source': 'coingecko_api',\n",
       "  'coins_collected': 9,\n",
       "  'target_coins': ['bitcoin',\n",
       "   'ethereum',\n",
       "   'binancecoin',\n",
       "   'solana',\n",
       "   'cardano',\n",
       "   'polygon',\n",
       "   'chainlink',\n",
       "   'avalanche-2',\n",
       "   'polkadot',\n",
       "   'litecoin']},\n",
       " 'coin_data': [{'id': 'bitcoin',\n",
       "   'symbol': 'btc',\n",
       "   'name': 'Bitcoin',\n",
       "   'current_price': 118339,\n",
       "   'market_cap': 2354150420794,\n",
       "   'market_cap_rank': 1,\n",
       "   'total_volume': 46875338361,\n",
       "   'price_change_24h': -1359.1467925923207,\n",
       "   'price_change_percentage_24h': -1.13548,\n",
       "   'last_updated': '2025-07-23T18:51:16.228Z'},\n",
       "  {'id': 'ethereum',\n",
       "   'symbol': 'eth',\n",
       "   'name': 'Ethereum',\n",
       "   'current_price': 3604.09,\n",
       "   'market_cap': 434974069659,\n",
       "   'market_cap_rank': 2,\n",
       "   'total_volume': 45742773174,\n",
       "   'price_change_24h': -105.76820692878209,\n",
       "   'price_change_percentage_24h': -2.851,\n",
       "   'last_updated': '2025-07-23T18:51:03.447Z'},\n",
       "  {'id': 'binancecoin',\n",
       "   'symbol': 'bnb',\n",
       "   'name': 'BNB',\n",
       "   'current_price': 773.72,\n",
       "   'market_cap': 107708407533,\n",
       "   'market_cap_rank': 5,\n",
       "   'total_volume': 4322186332,\n",
       "   'price_change_24h': 2.98,\n",
       "   'price_change_percentage_24h': 0.38629,\n",
       "   'last_updated': '2025-07-23T18:51:15.492Z'},\n",
       "  {'id': 'solana',\n",
       "   'symbol': 'sol',\n",
       "   'name': 'Solana',\n",
       "   'current_price': 189.98,\n",
       "   'market_cap': 102228974176,\n",
       "   'market_cap_rank': 6,\n",
       "   'total_volume': 22001534119,\n",
       "   'price_change_24h': -11.83157786706002,\n",
       "   'price_change_percentage_24h': -5.86259,\n",
       "   'last_updated': '2025-07-23T18:51:07.685Z'},\n",
       "  {'id': 'cardano',\n",
       "   'symbol': 'ada',\n",
       "   'name': 'Cardano',\n",
       "   'current_price': 0.817713,\n",
       "   'market_cap': 29505275316,\n",
       "   'market_cap_rank': 10,\n",
       "   'total_volume': 1709835416,\n",
       "   'price_change_24h': -0.07014773164933763,\n",
       "   'price_change_percentage_24h': -7.90076,\n",
       "   'last_updated': '2025-07-23T18:51:16.481Z'},\n",
       "  {'id': 'chainlink',\n",
       "   'symbol': 'link',\n",
       "   'name': 'Chainlink',\n",
       "   'current_price': 18.11,\n",
       "   'market_cap': 12261769286,\n",
       "   'market_cap_rank': 17,\n",
       "   'total_volume': 886756916,\n",
       "   'price_change_24h': -1.2037385127638167,\n",
       "   'price_change_percentage_24h': -6.23143,\n",
       "   'last_updated': '2025-07-23T18:51:16.305Z'},\n",
       "  {'id': 'avalanche-2',\n",
       "   'symbol': 'avax',\n",
       "   'name': 'Avalanche',\n",
       "   'current_price': 24.02,\n",
       "   'market_cap': 10136548703,\n",
       "   'market_cap_rank': 22,\n",
       "   'total_volume': 1115586082,\n",
       "   'price_change_24h': -1.0859192973343745,\n",
       "   'price_change_percentage_24h': -4.32484,\n",
       "   'last_updated': '2025-07-23T18:51:14.787Z'},\n",
       "  {'id': 'litecoin',\n",
       "   'symbol': 'ltc',\n",
       "   'name': 'Litecoin',\n",
       "   'current_price': 113.36,\n",
       "   'market_cap': 8619666438,\n",
       "   'market_cap_rank': 23,\n",
       "   'total_volume': 1415656246,\n",
       "   'price_change_24h': -5.49289853265347,\n",
       "   'price_change_percentage_24h': -4.62143,\n",
       "   'last_updated': '2025-07-23T18:51:04.375Z'},\n",
       "  {'id': 'polkadot',\n",
       "   'symbol': 'dot',\n",
       "   'name': 'Polkadot',\n",
       "   'current_price': 4.18,\n",
       "   'market_cap': 6356523986,\n",
       "   'market_cap_rank': 32,\n",
       "   'total_volume': 609081964,\n",
       "   'price_change_24h': -0.24774011733981194,\n",
       "   'price_change_percentage_24h': -5.59622,\n",
       "   'last_updated': '2025-07-23T18:51:05.429Z'}]}"
      ]
     },
     "execution_count": 8,
     "metadata": {},
     "output_type": "execute_result"
    }
   ],
   "source": [
    "data"
   ]
  },
  {
   "cell_type": "code",
   "execution_count": null,
   "metadata": {},
   "outputs": [],
   "source": []
  },
  {
   "cell_type": "code",
   "execution_count": 11,
   "metadata": {},
   "outputs": [
    {
     "name": "stdout",
     "output_type": "stream",
     "text": [
      "{\"gecko_says\":\"(V3) To the Moon!\"}\n"
     ]
    }
   ],
   "source": [
    "url = \"https://api.coingecko.com/api/v3/ping\"\n",
    "\n",
    "headers = {\n",
    "    \"accept\": \"application/json\",\n",
    "    \"x-cg-demo-api-key\": coingecko_token\n",
    "}\n",
    "\n",
    "response = requests.get(url, headers=headers)\n",
    "\n",
    "print(response.text)"
   ]
  },
  {
   "cell_type": "code",
   "execution_count": 4,
   "metadata": {},
   "outputs": [
    {
     "name": "stdout",
     "output_type": "stream",
     "text": [
      "[{\"id\":\"bitcoin\",\"symbol\":\"btc\",\"name\":\"Bitcoin\",\"image\":\"https://coin-images.coingecko.com/coins/images/1/large/bitcoin.png?1696501400\",\"current_price\":119587,\"market_cap\":2377381701462,\"market_cap_rank\":1,\"fully_diluted_valuation\":2377381701462,\"total_volume\":54145709505,\"high_24h\":119813,\"low_24h\":116836,\"price_change_24h\":2748.02,\"price_change_percentage_24h\":2.35197,\"market_cap_change_24h\":54232891387,\"market_cap_change_percentage_24h\":2.33446,\"circulating_supply\":19896021.0,\"total_supply\":19896021.0,\"max_supply\":21000000.0,\"ath\":122838,\"ath_change_percentage\":-2.87941,\"ath_date\":\"2025-07-14T07:56:01.937Z\",\"atl\":67.81,\"atl_change_percentage\":175836.79189,\"atl_date\":\"2013-07-06T00:00:00.000Z\",\"roi\":null,\"last_updated\":\"2025-07-22T20:12:03.706Z\"}]\n"
     ]
    }
   ],
   "source": [
    "url = \"https://api.coingecko.com/api/v3/coins/markets\"\n",
    "\n",
    "headers = {\n",
    "    \"accept\": \"application/json\",\n",
    "    \"x-cg-demo-api-key\": coingecko_token\n",
    "}\n",
    "\n",
    "params = {\n",
    "    \"vs_currency\": \"usd\",\n",
    "    \"ids\": \"bitcoin\"\n",
    "}\n",
    "\n",
    "response = requests.get(url, headers=headers, params=params)\n",
    "\n",
    "print(response.text)"
   ]
  },
  {
   "cell_type": "code",
   "execution_count": 5,
   "metadata": {},
   "outputs": [
    {
     "data": {
      "text/plain": [
       "[{'id': 'bitcoin',\n",
       "  'symbol': 'btc',\n",
       "  'name': 'Bitcoin',\n",
       "  'image': 'https://coin-images.coingecko.com/coins/images/1/large/bitcoin.png?1696501400',\n",
       "  'current_price': 119587,\n",
       "  'market_cap': 2377381701462,\n",
       "  'market_cap_rank': 1,\n",
       "  'fully_diluted_valuation': 2377381701462,\n",
       "  'total_volume': 54145709505,\n",
       "  'high_24h': 119813,\n",
       "  'low_24h': 116836,\n",
       "  'price_change_24h': 2748.02,\n",
       "  'price_change_percentage_24h': 2.35197,\n",
       "  'market_cap_change_24h': 54232891387,\n",
       "  'market_cap_change_percentage_24h': 2.33446,\n",
       "  'circulating_supply': 19896021.0,\n",
       "  'total_supply': 19896021.0,\n",
       "  'max_supply': 21000000.0,\n",
       "  'ath': 122838,\n",
       "  'ath_change_percentage': -2.87941,\n",
       "  'ath_date': '2025-07-14T07:56:01.937Z',\n",
       "  'atl': 67.81,\n",
       "  'atl_change_percentage': 175836.79189,\n",
       "  'atl_date': '2013-07-06T00:00:00.000Z',\n",
       "  'roi': None,\n",
       "  'last_updated': '2025-07-22T20:12:03.706Z'}]"
      ]
     },
     "execution_count": 5,
     "metadata": {},
     "output_type": "execute_result"
    }
   ],
   "source": [
    "response.json()"
   ]
  },
  {
   "cell_type": "code",
   "execution_count": 6,
   "metadata": {},
   "outputs": [],
   "source": [
    "url = \"https://api.coingecko.com/api/v3/coins/markets\"\n",
    "\n",
    "headers = {\n",
    "    \"accept\": \"application/json\",\n",
    "    \"x-cg-demo-api-key\": coingecko_token\n",
    "}\n",
    "coin_ids = ['bitcoin', 'ethereum', 'solana', 'cardano', 'polygon']\n",
    "params = {\n",
    "    \"vs_currency\": \"usd\",\n",
    "    \"ids\": \",\".join(coin_ids)\n",
    "}\n",
    "\n",
    "response2 = requests.get(url, headers=headers, params=params)"
   ]
  },
  {
   "cell_type": "code",
   "execution_count": 12,
   "metadata": {},
   "outputs": [],
   "source": [
    "api_data = response2.json()"
   ]
  },
  {
   "cell_type": "code",
   "execution_count": 18,
   "metadata": {},
   "outputs": [
    {
     "data": {
      "text/plain": [
       "[{'id': 'bitcoin',\n",
       "  'symbol': 'btc',\n",
       "  'name': 'Bitcoin',\n",
       "  'image': 'https://coin-images.coingecko.com/coins/images/1/large/bitcoin.png?1696501400',\n",
       "  'current_price': 119641,\n",
       "  'market_cap': 2380336197346,\n",
       "  'market_cap_rank': 1,\n",
       "  'fully_diluted_valuation': 2380336197346,\n",
       "  'total_volume': 53910107598,\n",
       "  'high_24h': 119813,\n",
       "  'low_24h': 116836,\n",
       "  'price_change_24h': 2729.89,\n",
       "  'price_change_percentage_24h': 2.33502,\n",
       "  'market_cap_change_24h': 53517110020,\n",
       "  'market_cap_change_percentage_24h': 2.30001,\n",
       "  'circulating_supply': 19896021.0,\n",
       "  'total_supply': 19896021.0,\n",
       "  'max_supply': 21000000.0,\n",
       "  'ath': 122838,\n",
       "  'ath_change_percentage': -2.87941,\n",
       "  'ath_date': '2025-07-14T07:56:01.937Z',\n",
       "  'atl': 67.81,\n",
       "  'atl_change_percentage': 175836.79189,\n",
       "  'atl_date': '2013-07-06T00:00:00.000Z',\n",
       "  'roi': None,\n",
       "  'last_updated': '2025-07-22T20:19:03.203Z'},\n",
       " {'id': 'ethereum',\n",
       "  'symbol': 'eth',\n",
       "  'name': 'Ethereum',\n",
       "  'image': 'https://coin-images.coingecko.com/coins/images/279/large/ethereum.png?1696501628',\n",
       "  'current_price': 3691.26,\n",
       "  'market_cap': 445610156545,\n",
       "  'market_cap_rank': 2,\n",
       "  'fully_diluted_valuation': 445610156545,\n",
       "  'total_volume': 41856014659,\n",
       "  'high_24h': 3792.38,\n",
       "  'low_24h': 3630.43,\n",
       "  'price_change_24h': -49.649666849018104,\n",
       "  'price_change_percentage_24h': -1.32721,\n",
       "  'market_cap_change_24h': -6019017357.654297,\n",
       "  'market_cap_change_percentage_24h': -1.33273,\n",
       "  'circulating_supply': 120711486.2801501,\n",
       "  'total_supply': 120711486.2801501,\n",
       "  'max_supply': None,\n",
       "  'ath': 4878.26,\n",
       "  'ath_change_percentage': -24.83196,\n",
       "  'ath_date': '2021-11-10T14:24:19.604Z',\n",
       "  'atl': 0.432979,\n",
       "  'atl_change_percentage': 846798.83363,\n",
       "  'atl_date': '2015-10-20T00:00:00.000Z',\n",
       "  'roi': {'times': 40.240590626761424,\n",
       "   'currency': 'btc',\n",
       "   'percentage': 4024.0590626761423},\n",
       "  'last_updated': '2025-07-22T20:19:03.929Z'},\n",
       " {'id': 'solana',\n",
       "  'symbol': 'sol',\n",
       "  'name': 'Solana',\n",
       "  'image': 'https://coin-images.coingecko.com/coins/images/4128/large/solana.png?1718769756',\n",
       "  'current_price': 199.69,\n",
       "  'market_cap': 107476951962,\n",
       "  'market_cap_rank': 6,\n",
       "  'fully_diluted_valuation': 121001488691,\n",
       "  'total_volume': 30902738988,\n",
       "  'high_24h': 203.82,\n",
       "  'low_24h': 194.74,\n",
       "  'price_change_24h': 3.73,\n",
       "  'price_change_percentage_24h': 1.90083,\n",
       "  'market_cap_change_24h': 2014963425,\n",
       "  'market_cap_change_percentage_24h': 1.91061,\n",
       "  'circulating_supply': 538045456.9030093,\n",
       "  'total_supply': 605751280.439345,\n",
       "  'max_supply': None,\n",
       "  'ath': 293.31,\n",
       "  'ath_change_percentage': -31.90447,\n",
       "  'ath_date': '2025-01-19T11:15:27.957Z',\n",
       "  'atl': 0.500801,\n",
       "  'atl_change_percentage': 39782.55752,\n",
       "  'atl_date': '2020-05-11T19:35:23.449Z',\n",
       "  'roi': None,\n",
       "  'last_updated': '2025-07-22T20:19:07.096Z'},\n",
       " {'id': 'cardano',\n",
       "  'symbol': 'ada',\n",
       "  'name': 'Cardano',\n",
       "  'image': 'https://coin-images.coingecko.com/coins/images/975/large/cardano.png?1696502090',\n",
       "  'current_price': 0.883296,\n",
       "  'market_cap': 31938840491,\n",
       "  'market_cap_rank': 10,\n",
       "  'fully_diluted_valuation': 39751511569,\n",
       "  'total_volume': 2072728147,\n",
       "  'high_24h': 0.905891,\n",
       "  'low_24h': 0.856291,\n",
       "  'price_change_24h': 0.00132439,\n",
       "  'price_change_percentage_24h': 0.15016,\n",
       "  'market_cap_change_24h': 68209124,\n",
       "  'market_cap_change_percentage_24h': 0.21402,\n",
       "  'circulating_supply': 36155803021.66488,\n",
       "  'total_supply': 45000000000.0,\n",
       "  'max_supply': 45000000000.0,\n",
       "  'ath': 3.09,\n",
       "  'ath_change_percentage': -71.55269,\n",
       "  'ath_date': '2021-09-02T06:00:10.474Z',\n",
       "  'atl': 0.01925275,\n",
       "  'atl_change_percentage': 4461.13255,\n",
       "  'atl_date': '2020-03-13T02:22:55.044Z',\n",
       "  'roi': None,\n",
       "  'last_updated': '2025-07-22T20:19:02.999Z'}]"
      ]
     },
     "execution_count": 18,
     "metadata": {},
     "output_type": "execute_result"
    }
   ],
   "source": [
    "api_data"
   ]
  },
  {
   "cell_type": "code",
   "execution_count": 15,
   "metadata": {},
   "outputs": [
    {
     "data": {
      "text/plain": [
       "list"
      ]
     },
     "execution_count": 15,
     "metadata": {},
     "output_type": "execute_result"
    }
   ],
   "source": [
    "type(api_data)"
   ]
  },
  {
   "cell_type": "code",
   "execution_count": 17,
   "metadata": {},
   "outputs": [
    {
     "name": "stdout",
     "output_type": "stream",
     "text": [
      "coin_id: bitcoin in coin_ids\n",
      "coin_id: ethereum in coin_ids\n",
      "coin_id: solana in coin_ids\n",
      "coin_id: cardano in coin_ids\n"
     ]
    }
   ],
   "source": [
    "for coin in api_data:\n",
    "    if coin['id'] in coin_ids:\n",
    "        print(f\"coin_id: {coin['id']} in coin_ids\")\n",
    "    else:\n",
    "        print(f\"coin_id: {coin['id']} not in coin_ids\")"
   ]
  },
  {
   "cell_type": "code",
   "execution_count": null,
   "metadata": {},
   "outputs": [],
   "source": []
  }
 ],
 "metadata": {
  "kernelspec": {
   "display_name": "Python 3.9.13 ('venv': venv)",
   "language": "python",
   "name": "python3"
  },
  "language_info": {
   "codemirror_mode": {
    "name": "ipython",
    "version": 3
   },
   "file_extension": ".py",
   "mimetype": "text/x-python",
   "name": "python",
   "nbconvert_exporter": "python",
   "pygments_lexer": "ipython3",
   "version": "3.9.13"
  },
  "orig_nbformat": 4,
  "vscode": {
   "interpreter": {
    "hash": "857d8ac2ab87f7b878c24f7ce4ad344804cf87acc6af4497eac977b9abd03f96"
   }
  }
 },
 "nbformat": 4,
 "nbformat_minor": 2
}
